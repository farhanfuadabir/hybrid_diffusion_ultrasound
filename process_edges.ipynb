{
 "cells": [
  {
   "cell_type": "code",
   "execution_count": 3,
   "id": "30dc73dc",
   "metadata": {},
   "outputs": [],
   "source": [
    "import os\n",
    "import shutil\n",
    "import cv2\n",
    "import numpy as np\n",
    "from tqdm import tqdm"
   ]
  },
  {
   "cell_type": "code",
   "execution_count": 4,
   "id": "c3bac415",
   "metadata": {},
   "outputs": [],
   "source": [
    "# Step 1: Create BUSI_imgs/ and BUSI_masks/ directories\n",
    "source_dir = \"data/BUSI\"\n",
    "img_dir = \"data/BUSI_imgs\"\n",
    "mask_dir = \"data/BUSI_masks\"\n",
    "\n",
    "os.makedirs(img_dir, exist_ok=True)\n",
    "os.makedirs(mask_dir, exist_ok=True)"
   ]
  },
  {
   "cell_type": "code",
   "execution_count": 5,
   "id": "e639a572",
   "metadata": {},
   "outputs": [],
   "source": [
    "# Copy images and masks into separate folders\n",
    "for cls in ['benign', 'malignant', 'normal']:\n",
    "    class_path = os.path.join(source_dir, cls)\n",
    "    for fname in os.listdir(class_path):\n",
    "        src = os.path.join(class_path, fname)\n",
    "        if '_mask' in fname:\n",
    "            dst = os.path.join(mask_dir, f\"{cls}_{fname}\")\n",
    "        else:\n",
    "            dst = os.path.join(img_dir, f\"{cls}_{fname}\")\n",
    "        shutil.copy(src, dst)\n"
   ]
  },
  {
   "cell_type": "code",
   "execution_count": 6,
   "id": "27b0b235",
   "metadata": {},
   "outputs": [
    {
     "name": "stderr",
     "output_type": "stream",
     "text": [
      "100%|██████████| 798/798 [00:01<00:00, 712.85it/s]\n"
     ]
    }
   ],
   "source": [
    "# Step 2: Generate edge maps from masks\n",
    "edge_dir = \"data/BUSI_edges\"\n",
    "os.makedirs(edge_dir, exist_ok=True)\n",
    "\n",
    "for fname in tqdm(os.listdir(mask_dir)):\n",
    "    if not fname.endswith(('.png', '.jpg', '.jpeg')):\n",
    "        continue\n",
    "    mask_path = os.path.join(mask_dir, fname)\n",
    "    mask = cv2.imread(mask_path, cv2.IMREAD_GRAYSCALE)\n",
    "    edges = cv2.Canny(mask, 100, 200)  # You can tune these thresholds\n",
    "    edge_path = os.path.join(edge_dir, fname)\n",
    "    cv2.imwrite(edge_path, edges)"
   ]
  },
  {
   "cell_type": "code",
   "execution_count": null,
   "id": "d7e8876a",
   "metadata": {},
   "outputs": [],
   "source": []
  }
 ],
 "metadata": {
  "kernelspec": {
   "display_name": "venv",
   "language": "python",
   "name": "python3"
  },
  "language_info": {
   "codemirror_mode": {
    "name": "ipython",
    "version": 3
   },
   "file_extension": ".py",
   "mimetype": "text/x-python",
   "name": "python",
   "nbconvert_exporter": "python",
   "pygments_lexer": "ipython3",
   "version": "3.10.12"
  }
 },
 "nbformat": 4,
 "nbformat_minor": 5
}
