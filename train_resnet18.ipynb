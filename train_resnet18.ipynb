{
 "cells": [
  {
   "cell_type": "code",
   "execution_count": 43,
   "id": "1ac9113f",
   "metadata": {},
   "outputs": [],
   "source": [
    "import os\n",
    "import torch\n",
    "import torch.nn as nn\n",
    "import torch.optim as optim\n",
    "from torchvision import datasets, models, transforms\n",
    "from torch.utils.data import DataLoader\n",
    "from sklearn.metrics import classification_report, roc_auc_score, roc_curve, auc, precision_recall_fscore_support\n",
    "import matplotlib.pyplot as plt\n",
    "import pandas as pd\n",
    "import numpy as np\n",
    "from tqdm import tqdm\n",
    "from sklearn.preprocessing import label_binarize\n",
    "import seaborn as sns"
   ]
  },
  {
   "cell_type": "code",
   "execution_count": 52,
   "id": "27c7939c",
   "metadata": {},
   "outputs": [],
   "source": [
    "# Configuration\n",
    "device = torch.device(\"cuda\" if torch.cuda.is_available() else \"cpu\")\n",
    "dataset_name = \"lora\"\n",
    "dataset_path = f\"./data/dataset_{dataset_name}\"\n",
    "batch_size = 16\n",
    "num_epochs = 30\n",
    "num_classes = 3\n",
    "class_names = ['benign', 'malignant', 'normal']\n",
    "output_dir = f\"results/dataset_{dataset_name}/ResNet18/\"\n",
    "os.makedirs(output_dir, exist_ok=True)"
   ]
  },
  {
   "cell_type": "code",
   "execution_count": 53,
   "id": "2c88fd71",
   "metadata": {},
   "outputs": [],
   "source": [
    "# Image transforms\n",
    "data_transforms = {\n",
    "    'train': transforms.Compose([\n",
    "        transforms.Resize((224, 224)),\n",
    "        transforms.RandomHorizontalFlip(),\n",
    "        transforms.ToTensor(),\n",
    "        transforms.Normalize([0.485, 0.456, 0.406], [0.229, 0.224, 0.225])\n",
    "    ]),\n",
    "    'val': transforms.Compose([\n",
    "        transforms.Resize((224, 224)),\n",
    "        transforms.ToTensor(),\n",
    "        transforms.Normalize([0.485, 0.456, 0.406], [0.229, 0.224, 0.225])\n",
    "    ]),\n",
    "}\n",
    "\n",
    "\n",
    "# Load data\n",
    "image_datasets = {\n",
    "    x: datasets.ImageFolder(os.path.join(dataset_path, x), data_transforms[x])\n",
    "    for x in ['train', 'val']\n",
    "}\n",
    "dataloaders = {\n",
    "    x: DataLoader(image_datasets[x], batch_size=batch_size, shuffle=True)\n",
    "    for x in ['train', 'val']\n",
    "}\n",
    "\n",
    "# Model setup\n",
    "model = models.resnet18(weights=models.ResNet18_Weights.IMAGENET1K_V1)\n",
    "model.fc = nn.Linear(model.fc.in_features, num_classes)\n",
    "model = model.to(device)\n",
    "\n",
    "criterion = nn.CrossEntropyLoss()\n",
    "optimizer = optim.Adam(model.parameters(), lr=1e-4)"
   ]
  },
  {
   "cell_type": "code",
   "execution_count": 54,
   "id": "77bea84d",
   "metadata": {},
   "outputs": [
    {
     "name": "stderr",
     "output_type": "stream",
     "text": [
      "Epoch 1/30: 100%|██████████| 66/66 [00:08<00:00,  7.41it/s]\n"
     ]
    },
    {
     "name": "stdout",
     "output_type": "stream",
     "text": [
      "train_loss: 0.5377, train_acc: 0.7600\n",
      "val_loss: 0.5198, val_acc: 0.8089, f1: 0.8073, \n",
      "roc_auc: 0.9458, precision: 0.7961, recall: 0.8355\n",
      "\n"
     ]
    },
    {
     "name": "stderr",
     "output_type": "stream",
     "text": [
      "Epoch 2/30: 100%|██████████| 66/66 [00:08<00:00,  7.45it/s]\n"
     ]
    },
    {
     "name": "stdout",
     "output_type": "stream",
     "text": [
      "train_loss: 0.2503, train_acc: 0.9029\n",
      "val_loss: 0.3867, val_acc: 0.8471, f1: 0.8152, \n",
      "roc_auc: 0.9623, precision: 0.8947, recall: 0.7735\n",
      "\n"
     ]
    },
    {
     "name": "stderr",
     "output_type": "stream",
     "text": [
      "Epoch 3/30: 100%|██████████| 66/66 [00:08<00:00,  7.55it/s]\n"
     ]
    },
    {
     "name": "stdout",
     "output_type": "stream",
     "text": [
      "train_loss: 0.1460, train_acc: 0.9552\n",
      "val_loss: 0.3233, val_acc: 0.9172, f1: 0.9041, \n",
      "roc_auc: 0.9671, precision: 0.9041, recall: 0.9041\n",
      "\n"
     ]
    },
    {
     "name": "stderr",
     "output_type": "stream",
     "text": [
      "Epoch 4/30: 100%|██████████| 66/66 [00:08<00:00,  7.54it/s]\n"
     ]
    },
    {
     "name": "stdout",
     "output_type": "stream",
     "text": [
      "train_loss: 0.1088, train_acc: 0.9695\n",
      "val_loss: 0.2631, val_acc: 0.8981, f1: 0.8844, \n",
      "roc_auc: 0.9783, precision: 0.8844, recall: 0.8844\n",
      "\n"
     ]
    },
    {
     "name": "stderr",
     "output_type": "stream",
     "text": [
      "Epoch 5/30: 100%|██████████| 66/66 [00:08<00:00,  7.52it/s]\n"
     ]
    },
    {
     "name": "stdout",
     "output_type": "stream",
     "text": [
      "train_loss: 0.0870, train_acc: 0.9752\n",
      "val_loss: 0.2832, val_acc: 0.8917, f1: 0.8764, \n",
      "roc_auc: 0.9782, precision: 0.8681, recall: 0.8892\n",
      "\n"
     ]
    },
    {
     "name": "stderr",
     "output_type": "stream",
     "text": [
      "Epoch 6/30: 100%|██████████| 66/66 [00:08<00:00,  7.56it/s]\n"
     ]
    },
    {
     "name": "stdout",
     "output_type": "stream",
     "text": [
      "train_loss: 0.0825, train_acc: 0.9714\n",
      "val_loss: 0.3639, val_acc: 0.8662, f1: 0.8525, \n",
      "roc_auc: 0.9654, precision: 0.8866, recall: 0.8364\n",
      "\n"
     ]
    },
    {
     "name": "stderr",
     "output_type": "stream",
     "text": [
      "Epoch 7/30: 100%|██████████| 66/66 [00:08<00:00,  7.55it/s]\n"
     ]
    },
    {
     "name": "stdout",
     "output_type": "stream",
     "text": [
      "train_loss: 0.0769, train_acc: 0.9771\n",
      "val_loss: 0.3626, val_acc: 0.8726, f1: 0.8610, \n",
      "roc_auc: 0.9694, precision: 0.8423, recall: 0.8903\n",
      "\n"
     ]
    },
    {
     "name": "stderr",
     "output_type": "stream",
     "text": [
      "Epoch 8/30: 100%|██████████| 66/66 [00:08<00:00,  7.54it/s]\n"
     ]
    },
    {
     "name": "stdout",
     "output_type": "stream",
     "text": [
      "train_loss: 0.0919, train_acc: 0.9705\n",
      "val_loss: 0.3899, val_acc: 0.8408, f1: 0.8161, \n",
      "roc_auc: 0.9751, precision: 0.8548, recall: 0.8156\n",
      "\n"
     ]
    },
    {
     "name": "stderr",
     "output_type": "stream",
     "text": [
      "Epoch 9/30: 100%|██████████| 66/66 [00:08<00:00,  7.54it/s]\n"
     ]
    },
    {
     "name": "stdout",
     "output_type": "stream",
     "text": [
      "train_loss: 0.0842, train_acc: 0.9686\n",
      "val_loss: 0.3465, val_acc: 0.9045, f1: 0.8857, \n",
      "roc_auc: 0.9690, precision: 0.8824, recall: 0.8924\n",
      "\n"
     ]
    },
    {
     "name": "stderr",
     "output_type": "stream",
     "text": [
      "Epoch 10/30: 100%|██████████| 66/66 [00:08<00:00,  7.58it/s]\n"
     ]
    },
    {
     "name": "stdout",
     "output_type": "stream",
     "text": [
      "train_loss: 0.0493, train_acc: 0.9819\n",
      "val_loss: 0.3368, val_acc: 0.8981, f1: 0.8865, \n",
      "roc_auc: 0.9713, precision: 0.8915, recall: 0.8847\n",
      "\n"
     ]
    },
    {
     "name": "stderr",
     "output_type": "stream",
     "text": [
      "Epoch 11/30: 100%|██████████| 66/66 [00:08<00:00,  7.55it/s]\n"
     ]
    },
    {
     "name": "stdout",
     "output_type": "stream",
     "text": [
      "train_loss: 0.0309, train_acc: 0.9895\n",
      "val_loss: 0.2757, val_acc: 0.8981, f1: 0.8853, \n",
      "roc_auc: 0.9814, precision: 0.8855, recall: 0.8976\n",
      "\n"
     ]
    },
    {
     "name": "stderr",
     "output_type": "stream",
     "text": [
      "Epoch 12/30: 100%|██████████| 66/66 [00:08<00:00,  7.55it/s]\n"
     ]
    },
    {
     "name": "stdout",
     "output_type": "stream",
     "text": [
      "train_loss: 0.0207, train_acc: 0.9943\n",
      "val_loss: 0.2969, val_acc: 0.9172, f1: 0.9039, \n",
      "roc_auc: 0.9804, precision: 0.8986, recall: 0.9215\n",
      "\n"
     ]
    },
    {
     "name": "stderr",
     "output_type": "stream",
     "text": [
      "Epoch 13/30: 100%|██████████| 66/66 [00:08<00:00,  7.50it/s]\n"
     ]
    },
    {
     "name": "stdout",
     "output_type": "stream",
     "text": [
      "train_loss: 0.0225, train_acc: 0.9933\n",
      "val_loss: 0.3141, val_acc: 0.9236, f1: 0.9075, \n",
      "roc_auc: 0.9744, precision: 0.9117, recall: 0.9037\n",
      "\n"
     ]
    },
    {
     "name": "stderr",
     "output_type": "stream",
     "text": [
      "Epoch 14/30: 100%|██████████| 66/66 [00:08<00:00,  7.55it/s]\n"
     ]
    },
    {
     "name": "stdout",
     "output_type": "stream",
     "text": [
      "train_loss: 0.0203, train_acc: 0.9924\n",
      "val_loss: 0.2952, val_acc: 0.8917, f1: 0.8831, \n",
      "roc_auc: 0.9833, precision: 0.8636, recall: 0.9146\n",
      "\n"
     ]
    },
    {
     "name": "stderr",
     "output_type": "stream",
     "text": [
      "Epoch 15/30: 100%|██████████| 66/66 [00:08<00:00,  7.55it/s]\n"
     ]
    },
    {
     "name": "stdout",
     "output_type": "stream",
     "text": [
      "train_loss: 0.0118, train_acc: 0.9971\n",
      "val_loss: 0.2695, val_acc: 0.9045, f1: 0.8920, \n",
      "roc_auc: 0.9829, precision: 0.8842, recall: 0.9009\n",
      "\n"
     ]
    },
    {
     "name": "stderr",
     "output_type": "stream",
     "text": [
      "Epoch 16/30: 100%|██████████| 66/66 [00:08<00:00,  7.56it/s]\n"
     ]
    },
    {
     "name": "stdout",
     "output_type": "stream",
     "text": [
      "train_loss: 0.0273, train_acc: 0.9895\n",
      "val_loss: 0.2617, val_acc: 0.8917, f1: 0.8757, \n",
      "roc_auc: 0.9822, precision: 0.8652, recall: 0.8892\n",
      "\n"
     ]
    },
    {
     "name": "stderr",
     "output_type": "stream",
     "text": [
      "Epoch 17/30: 100%|██████████| 66/66 [00:08<00:00,  7.57it/s]\n"
     ]
    },
    {
     "name": "stdout",
     "output_type": "stream",
     "text": [
      "train_loss: 0.0218, train_acc: 0.9952\n",
      "val_loss: 0.3083, val_acc: 0.9045, f1: 0.8917, \n",
      "roc_auc: 0.9801, precision: 0.9138, recall: 0.8758\n",
      "\n"
     ]
    },
    {
     "name": "stderr",
     "output_type": "stream",
     "text": [
      "Epoch 18/30: 100%|██████████| 66/66 [00:08<00:00,  7.56it/s]\n"
     ]
    },
    {
     "name": "stdout",
     "output_type": "stream",
     "text": [
      "train_loss: 0.0224, train_acc: 0.9914\n",
      "val_loss: 0.3804, val_acc: 0.9045, f1: 0.8925, \n",
      "roc_auc: 0.9755, precision: 0.8976, recall: 0.9058\n",
      "\n"
     ]
    },
    {
     "name": "stderr",
     "output_type": "stream",
     "text": [
      "Epoch 19/30: 100%|██████████| 66/66 [00:08<00:00,  7.53it/s]\n"
     ]
    },
    {
     "name": "stdout",
     "output_type": "stream",
     "text": [
      "train_loss: 0.0308, train_acc: 0.9895\n",
      "val_loss: 0.3061, val_acc: 0.9236, f1: 0.9135, \n",
      "roc_auc: 0.9733, precision: 0.9101, recall: 0.9252\n",
      "\n"
     ]
    },
    {
     "name": "stderr",
     "output_type": "stream",
     "text": [
      "Epoch 20/30: 100%|██████████| 66/66 [00:08<00:00,  7.54it/s]\n"
     ]
    },
    {
     "name": "stdout",
     "output_type": "stream",
     "text": [
      "train_loss: 0.0531, train_acc: 0.9829\n",
      "val_loss: 0.3376, val_acc: 0.8917, f1: 0.8861, \n",
      "roc_auc: 0.9762, precision: 0.8655, recall: 0.9190\n",
      "\n"
     ]
    },
    {
     "name": "stderr",
     "output_type": "stream",
     "text": [
      "Epoch 21/30: 100%|██████████| 66/66 [00:08<00:00,  7.55it/s]\n"
     ]
    },
    {
     "name": "stdout",
     "output_type": "stream",
     "text": [
      "train_loss: 0.0212, train_acc: 0.9943\n",
      "val_loss: 0.3161, val_acc: 0.8790, f1: 0.8641, \n",
      "roc_auc: 0.9768, precision: 0.8525, recall: 0.8816\n",
      "\n"
     ]
    },
    {
     "name": "stderr",
     "output_type": "stream",
     "text": [
      "Epoch 22/30: 100%|██████████| 66/66 [00:08<00:00,  7.55it/s]\n"
     ]
    },
    {
     "name": "stdout",
     "output_type": "stream",
     "text": [
      "train_loss: 0.0559, train_acc: 0.9752\n",
      "val_loss: 0.2747, val_acc: 0.9108, f1: 0.8937, \n",
      "roc_auc: 0.9795, precision: 0.9025, recall: 0.8878\n",
      "\n"
     ]
    },
    {
     "name": "stderr",
     "output_type": "stream",
     "text": [
      "Epoch 23/30: 100%|██████████| 66/66 [00:08<00:00,  7.53it/s]\n"
     ]
    },
    {
     "name": "stdout",
     "output_type": "stream",
     "text": [
      "train_loss: 0.0391, train_acc: 0.9876\n",
      "val_loss: 0.2433, val_acc: 0.9108, f1: 0.8960, \n",
      "roc_auc: 0.9842, precision: 0.9106, recall: 0.8834\n",
      "\n"
     ]
    },
    {
     "name": "stderr",
     "output_type": "stream",
     "text": [
      "Epoch 24/30: 100%|██████████| 66/66 [00:08<00:00,  7.52it/s]\n"
     ]
    },
    {
     "name": "stdout",
     "output_type": "stream",
     "text": [
      "train_loss: 0.0385, train_acc: 0.9886\n",
      "val_loss: 0.2637, val_acc: 0.9299, f1: 0.9149, \n",
      "roc_auc: 0.9833, precision: 0.9153, recall: 0.9161\n",
      "\n"
     ]
    },
    {
     "name": "stderr",
     "output_type": "stream",
     "text": [
      "Epoch 25/30: 100%|██████████| 66/66 [00:08<00:00,  7.54it/s]\n"
     ]
    },
    {
     "name": "stdout",
     "output_type": "stream",
     "text": [
      "train_loss: 0.0404, train_acc: 0.9848\n",
      "val_loss: 0.2374, val_acc: 0.9172, f1: 0.9049, \n",
      "roc_auc: 0.9856, precision: 0.9015, recall: 0.9085\n",
      "\n"
     ]
    },
    {
     "name": "stderr",
     "output_type": "stream",
     "text": [
      "Epoch 26/30: 100%|██████████| 66/66 [00:08<00:00,  7.55it/s]\n"
     ]
    },
    {
     "name": "stdout",
     "output_type": "stream",
     "text": [
      "train_loss: 0.0269, train_acc: 0.9914\n",
      "val_loss: 0.4175, val_acc: 0.8917, f1: 0.8769, \n",
      "roc_auc: 0.9751, precision: 0.8669, recall: 0.9019\n",
      "\n"
     ]
    },
    {
     "name": "stderr",
     "output_type": "stream",
     "text": [
      "Epoch 27/30: 100%|██████████| 66/66 [00:08<00:00,  7.53it/s]\n"
     ]
    },
    {
     "name": "stdout",
     "output_type": "stream",
     "text": [
      "train_loss: 0.0625, train_acc: 0.9743\n",
      "val_loss: 0.4432, val_acc: 0.8471, f1: 0.8170, \n",
      "roc_auc: 0.9625, precision: 0.8612, recall: 0.7906\n",
      "\n"
     ]
    },
    {
     "name": "stderr",
     "output_type": "stream",
     "text": [
      "Epoch 28/30: 100%|██████████| 66/66 [00:08<00:00,  7.54it/s]\n"
     ]
    },
    {
     "name": "stdout",
     "output_type": "stream",
     "text": [
      "train_loss: 0.0455, train_acc: 0.9905\n",
      "val_loss: 0.4392, val_acc: 0.8854, f1: 0.8661, \n",
      "roc_auc: 0.9570, precision: 0.8549, recall: 0.8810\n",
      "\n"
     ]
    },
    {
     "name": "stderr",
     "output_type": "stream",
     "text": [
      "Epoch 29/30: 100%|██████████| 66/66 [00:08<00:00,  7.51it/s]\n"
     ]
    },
    {
     "name": "stdout",
     "output_type": "stream",
     "text": [
      "train_loss: 0.0467, train_acc: 0.9848\n",
      "val_loss: 0.3246, val_acc: 0.9045, f1: 0.8863, \n",
      "roc_auc: 0.9758, precision: 0.9111, recall: 0.8669\n",
      "\n"
     ]
    },
    {
     "name": "stderr",
     "output_type": "stream",
     "text": [
      "Epoch 30/30: 100%|██████████| 66/66 [00:08<00:00,  7.53it/s]\n"
     ]
    },
    {
     "name": "stdout",
     "output_type": "stream",
     "text": [
      "train_loss: 0.0279, train_acc: 0.9914\n",
      "val_loss: 0.3657, val_acc: 0.8726, f1: 0.8503, \n",
      "roc_auc: 0.9693, precision: 0.8578, recall: 0.8436\n",
      "\n",
      "\n",
      "\n",
      "Best validation metrics:\n",
      "Epoch: 24\n",
      "Validation Loss: 0.2374\n",
      "Validation Accuracy: 0.9172\n",
      "F1 Score: 0.9049\n",
      "AUC ROC: 0.9856\n",
      "Precision: 0.9015\n",
      "Recall: 0.9085\n"
     ]
    }
   ],
   "source": [
    "history = {\n",
    "    'epoch': [],\n",
    "    'train_loss': [],\n",
    "    'train_acc': [],\n",
    "    'val_loss': [],\n",
    "    'val_acc': [],\n",
    "    'val_f1': [],\n",
    "    'val_auc_roc': [],\n",
    "    'val_precision': [],\n",
    "    'val_recall': []\n",
    "}\n",
    "\n",
    "best_val_loss = float('inf')\n",
    "best_model_wts = None\n",
    "best_metrics = {}\n",
    "\n",
    "# Training loop\n",
    "for epoch in range(num_epochs):\n",
    "    model.train()\n",
    "    train_loss, train_corrects = 0.0, 0\n",
    "\n",
    "    for inputs, labels in tqdm(dataloaders['train'], desc=f\"Epoch {epoch+1}/{num_epochs}\"):\n",
    "        inputs, labels = inputs.to(device), labels.to(device)\n",
    "        optimizer.zero_grad()\n",
    "\n",
    "        outputs = model(inputs)\n",
    "        loss = criterion(outputs, labels)\n",
    "        loss.backward()\n",
    "        optimizer.step()\n",
    "\n",
    "        preds = outputs.argmax(dim=1)\n",
    "        train_loss += loss.item() * inputs.size(0)\n",
    "        train_corrects += (preds == labels).sum().item()\n",
    "\n",
    "    train_loss /= len(image_datasets['train'])\n",
    "    train_acc = train_corrects / len(image_datasets['train'])\n",
    "    print(f\"train_loss: {train_loss:.4f}, train_acc: {train_acc:.4f}\")\n",
    "\n",
    "    # Validation\n",
    "    model.eval()\n",
    "    val_loss, val_corrects = 0.0, 0\n",
    "    all_preds, all_labels, all_probs = [], [], []\n",
    "\n",
    "    with torch.no_grad():\n",
    "        for inputs, labels in dataloaders['val']:\n",
    "            inputs, labels = inputs.to(device), labels.to(device)\n",
    "            outputs = model(inputs)\n",
    "            loss = criterion(outputs, labels)\n",
    "\n",
    "            probs = torch.softmax(outputs, dim=1)\n",
    "            preds = probs.argmax(dim=1)\n",
    "\n",
    "            all_probs.append(probs.cpu().numpy())\n",
    "            all_preds.append(preds.cpu().numpy())\n",
    "            all_labels.append(labels.cpu().numpy())\n",
    "\n",
    "            val_loss += loss.item() * inputs.size(0)\n",
    "            val_corrects += (preds == labels).sum().item()\n",
    "\n",
    "    val_loss /= len(image_datasets['val'])\n",
    "    val_acc = val_corrects / len(image_datasets['val'])\n",
    "\n",
    "    all_preds = np.concatenate(all_preds)\n",
    "    all_labels = np.concatenate(all_labels)\n",
    "    all_probs = np.concatenate(all_probs)\n",
    "    all_labels_bin = label_binarize(all_labels, classes=list(range(num_classes)))\n",
    "\n",
    "    precision, recall, f1, _ = precision_recall_fscore_support(all_labels, all_preds, average='macro', zero_division=0)\n",
    "    roc_auc = roc_auc_score(all_labels_bin, all_probs, multi_class='ovr')\n",
    "\n",
    "    print(\n",
    "        f\"val_loss: {val_loss:.4f}, \"\n",
    "        f\"val_acc: {val_acc:.4f}, \"\n",
    "        f\"f1: {f1:.4f}, \\n\"\n",
    "        f\"roc_auc: {roc_auc:.4f}, \"\n",
    "        f\"precision: {precision:.4f}, \"\n",
    "        f\"recall: {recall:.4f}\"\n",
    "    )\n",
    "    print()\n",
    "\n",
    "    history['epoch'].append(epoch)\n",
    "    history['train_loss'].append(train_loss)\n",
    "    history['train_acc'].append(train_acc)\n",
    "    history['val_loss'].append(val_loss)\n",
    "    history['val_acc'].append(val_acc)\n",
    "    history['val_f1'].append(f1)\n",
    "    history['val_auc_roc'].append(roc_auc)\n",
    "    history['val_precision'].append(precision)\n",
    "    history['val_recall'].append(recall)\n",
    "\n",
    "    # Save best model\n",
    "    if val_loss < best_val_loss:\n",
    "        best_val_loss = val_loss\n",
    "        best_model_wts = model.state_dict()\n",
    "        best_metrics = {\n",
    "            \"epoch\": epoch,\n",
    "            \"val_loss\": val_loss,\n",
    "            \"val_acc\": val_acc,\n",
    "            \"f1\": f1,\n",
    "            \"auc_roc\": roc_auc,\n",
    "            \"precision\": precision,\n",
    "            \"recall\": recall\n",
    "        }\n",
    "\n",
    "print()\n",
    "print()\n",
    "print(\"Best validation metrics:\")\n",
    "print(f\"Epoch: {best_metrics['epoch']}\")\n",
    "print(f\"Validation Loss: {best_metrics['val_loss']:.4f}\")\n",
    "print(f\"Validation Accuracy: {best_metrics['val_acc']:.4f}\")\n",
    "print(f\"F1 Score: {best_metrics['f1']:.4f}\")\n",
    "print(f\"AUC ROC: {best_metrics['auc_roc']:.4f}\")\n",
    "print(f\"Precision: {best_metrics['precision']:.4f}\")\n",
    "print(f\"Recall: {best_metrics['recall']:.4f}\")\n",
    "\n",
    "\n",
    "\n",
    "# Save best model\n",
    "model.load_state_dict(best_model_wts)\n",
    "torch.save(model.state_dict(), os.path.join(output_dir, f\"{dataset_name}_best_resnet18.pth\"))\n",
    "\n",
    "# Save history\n",
    "history_df = pd.DataFrame(history)\n",
    "history_df.to_csv(os.path.join(output_dir, f\"{dataset_name}_training_history.csv\"), index=False)"
   ]
  },
  {
   "cell_type": "code",
   "execution_count": null,
   "id": "e48d8cb1",
   "metadata": {},
   "outputs": [],
   "source": []
  },
  {
   "cell_type": "code",
   "execution_count": null,
   "id": "284e334b",
   "metadata": {},
   "outputs": [],
   "source": []
  },
  {
   "cell_type": "code",
   "execution_count": 56,
   "id": "7dc1581e",
   "metadata": {},
   "outputs": [
    {
     "data": {
      "text/html": [
       "<div>\n",
       "<style scoped>\n",
       "    .dataframe tbody tr th:only-of-type {\n",
       "        vertical-align: middle;\n",
       "    }\n",
       "\n",
       "    .dataframe tbody tr th {\n",
       "        vertical-align: top;\n",
       "    }\n",
       "\n",
       "    .dataframe thead th {\n",
       "        text-align: right;\n",
       "    }\n",
       "</style>\n",
       "<table border=\"1\" class=\"dataframe\">\n",
       "  <thead>\n",
       "    <tr style=\"text-align: right;\">\n",
       "      <th></th>\n",
       "      <th>epoch</th>\n",
       "      <th>train_loss</th>\n",
       "      <th>train_acc</th>\n",
       "      <th>val_loss</th>\n",
       "      <th>val_acc</th>\n",
       "      <th>val_f1</th>\n",
       "      <th>val_auc_roc</th>\n",
       "      <th>val_precision</th>\n",
       "      <th>val_recall</th>\n",
       "    </tr>\n",
       "  </thead>\n",
       "  <tbody>\n",
       "    <tr>\n",
       "      <th>real</th>\n",
       "      <td>3.0</td>\n",
       "      <td>0.101756</td>\n",
       "      <td>0.967897</td>\n",
       "      <td>0.250601</td>\n",
       "      <td>0.904459</td>\n",
       "      <td>0.886540</td>\n",
       "      <td>0.979247</td>\n",
       "      <td>0.890395</td>\n",
       "      <td>0.883798</td>\n",
       "    </tr>\n",
       "    <tr>\n",
       "      <th>lora</th>\n",
       "      <td>24.0</td>\n",
       "      <td>0.040437</td>\n",
       "      <td>0.984762</td>\n",
       "      <td>0.237430</td>\n",
       "      <td>0.917197</td>\n",
       "      <td>0.904877</td>\n",
       "      <td>0.985554</td>\n",
       "      <td>0.901478</td>\n",
       "      <td>0.908490</td>\n",
       "    </tr>\n",
       "    <tr>\n",
       "      <th>lora_ti</th>\n",
       "      <td>11.0</td>\n",
       "      <td>0.030079</td>\n",
       "      <td>0.993333</td>\n",
       "      <td>0.267857</td>\n",
       "      <td>0.923567</td>\n",
       "      <td>0.912332</td>\n",
       "      <td>0.980282</td>\n",
       "      <td>0.905823</td>\n",
       "      <td>0.920575</td>\n",
       "    </tr>\n",
       "    <tr>\n",
       "      <th>lora_ti_controlnet</th>\n",
       "      <td>7.0</td>\n",
       "      <td>0.036173</td>\n",
       "      <td>0.991429</td>\n",
       "      <td>0.256576</td>\n",
       "      <td>0.904459</td>\n",
       "      <td>0.890187</td>\n",
       "      <td>0.981110</td>\n",
       "      <td>0.877091</td>\n",
       "      <td>0.913881</td>\n",
       "    </tr>\n",
       "    <tr>\n",
       "      <th>lora_ti_controlnet_refined</th>\n",
       "      <td>29.0</td>\n",
       "      <td>0.013763</td>\n",
       "      <td>0.995238</td>\n",
       "      <td>0.284104</td>\n",
       "      <td>0.917197</td>\n",
       "      <td>0.904200</td>\n",
       "      <td>0.985152</td>\n",
       "      <td>0.888550</td>\n",
       "      <td>0.925345</td>\n",
       "    </tr>\n",
       "  </tbody>\n",
       "</table>\n",
       "</div>"
      ],
      "text/plain": [
       "                            epoch  train_loss  train_acc  val_loss   val_acc  \\\n",
       "real                          3.0    0.101756   0.967897  0.250601  0.904459   \n",
       "lora                         24.0    0.040437   0.984762  0.237430  0.917197   \n",
       "lora_ti                      11.0    0.030079   0.993333  0.267857  0.923567   \n",
       "lora_ti_controlnet            7.0    0.036173   0.991429  0.256576  0.904459   \n",
       "lora_ti_controlnet_refined   29.0    0.013763   0.995238  0.284104  0.917197   \n",
       "\n",
       "                              val_f1  val_auc_roc  val_precision  val_recall  \n",
       "real                        0.886540     0.979247       0.890395    0.883798  \n",
       "lora                        0.904877     0.985554       0.901478    0.908490  \n",
       "lora_ti                     0.912332     0.980282       0.905823    0.920575  \n",
       "lora_ti_controlnet          0.890187     0.981110       0.877091    0.913881  \n",
       "lora_ti_controlnet_refined  0.904200     0.985152       0.888550    0.925345  "
      ]
     },
     "metadata": {},
     "output_type": "display_data"
    }
   ],
   "source": [
    "# Combine Results\n",
    "\n",
    "combined_best_metrics = {}\n",
    "\n",
    "for exp in ['real', 'lora', 'lora_ti', 'lora_ti_controlnet', 'lora_ti_controlnet_refined']:\n",
    "    best_metric = {}\n",
    "    history_df = pd.read_csv(os.path.join('results', f\"dataset_{exp}\", \"ResNet18\", f\"{exp}_training_history.csv\"))\n",
    "    best_metric.update(history_df[history_df['val_loss'] == history_df['val_loss'].min()].iloc[0].to_dict())\n",
    "    combined_best_metrics[exp] = best_metric\n",
    "\n",
    "combined_df = pd.DataFrame(combined_best_metrics).T\n",
    "combined_df.to_csv(os.path.join('results', f\"combined_best_metrics.csv\"), index=True)\n",
    "\n",
    "display(combined_df)"
   ]
  },
  {
   "cell_type": "code",
   "execution_count": null,
   "id": "ce74e090",
   "metadata": {},
   "outputs": [],
   "source": []
  }
 ],
 "metadata": {
  "kernelspec": {
   "display_name": "venv",
   "language": "python",
   "name": "python3"
  },
  "language_info": {
   "codemirror_mode": {
    "name": "ipython",
    "version": 3
   },
   "file_extension": ".py",
   "mimetype": "text/x-python",
   "name": "python",
   "nbconvert_exporter": "python",
   "pygments_lexer": "ipython3",
   "version": "3.10.12"
  }
 },
 "nbformat": 4,
 "nbformat_minor": 5
}
