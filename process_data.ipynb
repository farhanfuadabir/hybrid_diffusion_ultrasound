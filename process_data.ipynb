{
 "cells": [
  {
   "cell_type": "code",
   "execution_count": 1,
   "id": "bb29fec2",
   "metadata": {},
   "outputs": [],
   "source": [
    "import os, json"
   ]
  },
  {
   "cell_type": "code",
   "execution_count": 1,
   "id": "d07a8c4d",
   "metadata": {},
   "outputs": [
    {
     "name": "stdout",
     "output_type": "stream",
     "text": [
      "Flattened BUSI dataset prepared at: data/BUSI_flattened\n"
     ]
    }
   ],
   "source": [
    "import os\n",
    "import shutil\n",
    "\n",
    "src_root = \"data/BUSI\"\n",
    "dst_root = \"data/BUSI_flattened\"\n",
    "os.makedirs(dst_root, exist_ok=True)\n",
    "\n",
    "for label in os.listdir(src_root):\n",
    "    label_path = os.path.join(src_root, label)\n",
    "    if not os.path.isdir(label_path):\n",
    "        continue\n",
    "    for fname in os.listdir(label_path):\n",
    "        if \"_mask\" in fname.lower():\n",
    "            continue\n",
    "        if not fname.lower().endswith((\".png\", \".jpg\", \".jpeg\")):\n",
    "            continue\n",
    "        src_file = os.path.join(label_path, fname)\n",
    "        dst_file = os.path.join(dst_root, f\"{label}_{fname}\")\n",
    "        shutil.copy2(src_file, dst_file)\n",
    "\n",
    "print(\"Flattened BUSI dataset prepared at:\", dst_root)\n"
   ]
  },
  {
   "cell_type": "code",
   "execution_count": 6,
   "id": "5c269bac",
   "metadata": {},
   "outputs": [],
   "source": [
    "root = \"data/BUSI/\"\n",
    "data = []\n",
    "\n",
    "for label in os.listdir(root):\n",
    "    folder = os.path.join(root, label)\n",
    "    if not os.path.isdir(folder):\n",
    "        continue\n",
    "    for fname in os.listdir(folder):\n",
    "        # Skip mask files\n",
    "        if \"_mask\" in fname.lower():\n",
    "            continue\n",
    "        if label == \"normal\":\n",
    "            prompt = f\"ultrasound image of {label} breast tissue\"\n",
    "        else:\n",
    "            prompt = f\"ultrasound image of a {label} breast lesion\"\n",
    "        data.append({\n",
    "            \"image\": os.path.join(folder, fname),\n",
    "            \"text\": prompt\n",
    "        })\n",
    "\n",
    "with open(os.path.join(root, \"captions.json\"), \"w\") as f:\n",
    "    json.dump(data, f, indent=2)\n"
   ]
  },
  {
   "cell_type": "code",
   "execution_count": 2,
   "id": "216202d9",
   "metadata": {},
   "outputs": [
    {
     "name": "stdout",
     "output_type": "stream",
     "text": [
      "Saved to data/BUSI/captions.jsonl\n"
     ]
    }
   ],
   "source": [
    "import os\n",
    "import json\n",
    "\n",
    "root = \"data/BUSI\"\n",
    "jsonl_path = os.path.join(root, \"captions.jsonl\")\n",
    "\n",
    "with open(jsonl_path, \"w\") as f:\n",
    "    for subdir in os.listdir(root):\n",
    "        class_dir = os.path.join(root, subdir)\n",
    "        if not os.path.isdir(class_dir): continue\n",
    "        for fname in os.listdir(class_dir):\n",
    "            if \"_mask\" in fname.lower(): continue\n",
    "            if not fname.lower().endswith((\".png\", \".jpg\", \".jpeg\")): continue\n",
    "\n",
    "            image_path = os.path.join(subdir, fname)  # relative path\n",
    "            prompt = f\"ultrasound image of a {subdir} breast lesion\"\n",
    "            entry = {\"image\": image_path, \"text\": prompt}\n",
    "            f.write(json.dumps(entry) + \"\\n\")\n",
    "\n",
    "print(f\"Saved to {jsonl_path}\")\n"
   ]
  },
  {
   "cell_type": "code",
   "execution_count": null,
   "id": "b83ab9b1",
   "metadata": {},
   "outputs": [],
   "source": []
  }
 ],
 "metadata": {
  "kernelspec": {
   "display_name": "venv",
   "language": "python",
   "name": "python3"
  },
  "language_info": {
   "codemirror_mode": {
    "name": "ipython",
    "version": 3
   },
   "file_extension": ".py",
   "mimetype": "text/x-python",
   "name": "python",
   "nbconvert_exporter": "python",
   "pygments_lexer": "ipython3",
   "version": "3.10.12"
  }
 },
 "nbformat": 4,
 "nbformat_minor": 5
}
