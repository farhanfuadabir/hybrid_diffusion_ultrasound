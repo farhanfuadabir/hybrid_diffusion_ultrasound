{
 "cells": [
  {
   "cell_type": "code",
   "execution_count": 1,
   "id": "ae673706",
   "metadata": {},
   "outputs": [],
   "source": [
    "import os\n",
    "from collections import defaultdict\n",
    "import shutil\n",
    "import random\n",
    "from sklearn.model_selection import train_test_split"
   ]
  },
  {
   "cell_type": "code",
   "execution_count": 2,
   "id": "5d21caa2",
   "metadata": {},
   "outputs": [],
   "source": [
    "# --- Config ---\n",
    "real_dir = \"data/BUSI\"                # contains class subfolders\n",
    "augmented_dir = \"data/LoRA_TI_ControlNet_refined\"        # contains class subfolders\n",
    "output_dataset_dir = \"data/dataset_lora_ti_controlnet_refined\"     # where split train/val folders go\n",
    "\n",
    "val_ratio = 0.2                       # 80/20 train/val split\n",
    "classes = ['benign', 'malignant', 'normal']\n",
    "target_per_class = 350\n",
    "random.seed(42)"
   ]
  },
  {
   "cell_type": "code",
   "execution_count": 3,
   "id": "489a4587",
   "metadata": {},
   "outputs": [],
   "source": [
    "def count_images_in_split(dataset_dir):\n",
    "    split_counts = defaultdict(dict)\n",
    "\n",
    "    for split in ['train', 'val']:\n",
    "        split_path = os.path.join(dataset_dir, split)\n",
    "        print(f\"\\n📂 Split: {split}\")\n",
    "        total = 0\n",
    "\n",
    "        for cls in ['benign', 'malignant', 'normal']:\n",
    "            class_path = os.path.join(split_path, cls)\n",
    "            num_images = len([\n",
    "                f for f in os.listdir(class_path)\n",
    "                if f.lower().endswith(('.png', '.jpg', '.jpeg'))\n",
    "            ])\n",
    "            split_counts[split][cls] = num_images\n",
    "            total += num_images\n",
    "            print(f\"  - {cls:<10}: {num_images} images\")\n",
    "\n",
    "        print(f\"  ✅ Total in {split}: {total} images\")\n",
    "\n",
    "    return split_counts\n"
   ]
  },
  {
   "cell_type": "code",
   "execution_count": 4,
   "id": "66d3b0f4",
   "metadata": {},
   "outputs": [
    {
     "name": "stdout",
     "output_type": "stream",
     "text": [
      "✅ Added real images to data/dataset_lora_ti_controlnet_refined\n"
     ]
    }
   ],
   "source": [
    "train_class_counts = {}\n",
    "\n",
    "# Create output folders\n",
    "for split in ['train', 'val']:\n",
    "    for cls in ['benign', 'malignant', 'normal']:\n",
    "        os.makedirs(os.path.join(output_dataset_dir, split, cls), exist_ok=True)\n",
    "\n",
    "# Split and copy files\n",
    "for cls in ['benign', 'malignant', 'normal']:\n",
    "    class_dir = os.path.join(real_dir, cls)\n",
    "    all_images = [f for f in os.listdir(class_dir) if f.lower().endswith(('.png', '.jpg', '.jpeg')) and '_mask' not in f]\n",
    "\n",
    "    train_imgs, val_imgs = train_test_split(all_images, test_size=val_ratio, random_state=42)\n",
    "\n",
    "    train_class_counts[cls] = len(train_imgs)\n",
    "\n",
    "    for img in train_imgs:\n",
    "        src = os.path.join(class_dir, img)\n",
    "        dst = os.path.join(output_dataset_dir, 'train', cls, img)\n",
    "        shutil.copy(src, dst)\n",
    "\n",
    "    for img in val_imgs:\n",
    "        src = os.path.join(class_dir, img)\n",
    "        dst = os.path.join(output_dataset_dir, 'val', cls, img)\n",
    "        shutil.copy(src, dst)\n",
    "\n",
    "print(f\"✅ Added real images to {output_dataset_dir}\")"
   ]
  },
  {
   "cell_type": "code",
   "execution_count": 5,
   "id": "25721820",
   "metadata": {},
   "outputs": [
    {
     "name": "stdout",
     "output_type": "stream",
     "text": [
      "\n",
      "📂 Split: train\n",
      "  - benign    : 350 images\n",
      "  - malignant : 350 images\n",
      "  - normal    : 350 images\n",
      "  ✅ Total in train: 1050 images\n",
      "\n",
      "📂 Split: val\n",
      "  - benign    : 88 images\n",
      "  - malignant : 42 images\n",
      "  - normal    : 27 images\n",
      "  ✅ Total in val: 157 images\n"
     ]
    }
   ],
   "source": [
    "# Change this to your dataset directory\n",
    "counts = count_images_in_split(output_dataset_dir)"
   ]
  },
  {
   "cell_type": "code",
   "execution_count": 6,
   "id": "6f88a774",
   "metadata": {},
   "outputs": [
    {
     "name": "stdout",
     "output_type": "stream",
     "text": [
      "✅ benign is already balanced with 350 images.\n",
      "✅ malignant is already balanced with 350 images.\n",
      "✅ normal is already balanced with 350 images.\n"
     ]
    }
   ],
   "source": [
    "# Add synthetic images to fill the gap\n",
    "for cls in classes:\n",
    "    output_cls_dir = os.path.join(output_dataset_dir, 'train', cls)\n",
    "    augmented_cls_dir = os.path.join(augmented_dir, cls)\n",
    "    \n",
    "    real_count = len([f for f in os.listdir(output_cls_dir) if f.endswith(('.png', '.jpg'))])\n",
    "    needed = target_per_class - real_count\n",
    "\n",
    "    if needed <= 0:\n",
    "        print(f\"✅ {cls} is already balanced with {real_count} images.\")\n",
    "        continue\n",
    "\n",
    "    augmented_imgs = [f for f in os.listdir(augmented_cls_dir) if f.endswith(('.png', '.jpg'))]\n",
    "    selected_imgs = random.sample(augmented_imgs, k=needed)\n",
    "\n",
    "    for img in selected_imgs:\n",
    "        src = os.path.join(augmented_cls_dir, img)\n",
    "        dst_name = f\"gen_{img}\"\n",
    "        dst = os.path.join(output_cls_dir, dst_name)\n",
    "        shutil.copy(src, dst)\n",
    "\n",
    "    print(f\"✅ Added {needed} synthetic {cls} images (now ~{target_per_class} total)\")"
   ]
  },
  {
   "cell_type": "code",
   "execution_count": 7,
   "id": "3808e63f",
   "metadata": {},
   "outputs": [
    {
     "name": "stdout",
     "output_type": "stream",
     "text": [
      "\n",
      "📂 Split: train\n",
      "  - benign    : 350 images\n",
      "  - malignant : 350 images\n",
      "  - normal    : 350 images\n",
      "  ✅ Total in train: 1050 images\n",
      "\n",
      "📂 Split: val\n",
      "  - benign    : 88 images\n",
      "  - malignant : 42 images\n",
      "  - normal    : 27 images\n",
      "  ✅ Total in val: 157 images\n"
     ]
    }
   ],
   "source": [
    "# Change this to your dataset directory\n",
    "counts = count_images_in_split(output_dataset_dir)"
   ]
  },
  {
   "cell_type": "code",
   "execution_count": null,
   "id": "f02d715f",
   "metadata": {},
   "outputs": [],
   "source": []
  },
  {
   "cell_type": "code",
   "execution_count": null,
   "id": "82cc150d",
   "metadata": {},
   "outputs": [],
   "source": []
  }
 ],
 "metadata": {
  "kernelspec": {
   "display_name": "venv",
   "language": "python",
   "name": "python3"
  },
  "language_info": {
   "codemirror_mode": {
    "name": "ipython",
    "version": 3
   },
   "file_extension": ".py",
   "mimetype": "text/x-python",
   "name": "python",
   "nbconvert_exporter": "python",
   "pygments_lexer": "ipython3",
   "version": "3.10.12"
  }
 },
 "nbformat": 4,
 "nbformat_minor": 5
}
